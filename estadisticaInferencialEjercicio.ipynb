{
 "cells": [
  {
   "cell_type": "code",
   "execution_count": 28,
   "id": "597ebdf1",
   "metadata": {},
   "outputs": [],
   "source": [
    "import pandas as pd"
   ]
  },
  {
   "cell_type": "code",
   "execution_count": 29,
   "id": "58402574",
   "metadata": {},
   "outputs": [],
   "source": [
    "import numpy as np"
   ]
  },
  {
   "cell_type": "code",
   "execution_count": 30,
   "id": "9d2bfce5",
   "metadata": {},
   "outputs": [],
   "source": [
    "data_klout = pd.read_csv('klout-scores.csv', header = None, names =['scores'])"
   ]
  },
  {
   "cell_type": "code",
   "execution_count": 31,
   "id": "671d0880",
   "metadata": {},
   "outputs": [
    {
     "name": "stdout",
     "output_type": "stream",
     "text": [
      "(1048, 1)\n"
     ]
    }
   ],
   "source": [
    "print(data_klout.shape)"
   ]
  },
  {
   "cell_type": "code",
   "execution_count": 32,
   "id": "e2d21790",
   "metadata": {},
   "outputs": [
    {
     "name": "stdout",
     "output_type": "stream",
     "text": [
      "(25, 1)\n"
     ]
    }
   ],
   "source": [
    "# Sacar muestra de tamano 25\n",
    "\n",
    "sample = data_klout.sample(n = 25, replace = False, random_state = 1234, axis = 0)\n",
    "print(sample.shape)"
   ]
  },
  {
   "cell_type": "code",
   "execution_count": 33,
   "id": "13a507ef",
   "metadata": {},
   "outputs": [
    {
     "name": "stdout",
     "output_type": "stream",
     "text": [
      "(25, 1)\n"
     ]
    }
   ],
   "source": [
    "# Distribuidor de orden aleatorio\n",
    "\n",
    "random_generator = np.random.default_rng(seed = 1234)\n",
    "index_sample = random_generator.choice(data_klout.index, size = 25, replace = False)\n",
    "sample = data_klout.loc[index_sample]\n",
    "\n",
    "print(sample.shape)"
   ]
  },
  {
   "cell_type": "code",
   "execution_count": 34,
   "id": "ee15b609",
   "metadata": {},
   "outputs": [
    {
     "name": "stdout",
     "output_type": "stream",
     "text": [
      "-1.9599639845400545\n"
     ]
    }
   ],
   "source": [
    "# Valores criticos para la construccion de intervalos de confianza\n",
    "\n",
    "from scipy import stats\n",
    "\n",
    "n = 20 \n",
    "\n",
    "alpha = 0.05\n",
    "\n",
    "critical_value_normal = stats.norm.ppf(alpha/2)\n",
    "print(critical_value_normal)\n"
   ]
  },
  {
   "cell_type": "code",
   "execution_count": 35,
   "id": "91770692",
   "metadata": {},
   "outputs": [
    {
     "name": "stdout",
     "output_type": "stream",
     "text": [
      "-2.0930240544082634\n"
     ]
    }
   ],
   "source": [
    "df = n-1\n",
    "critical_value_t = stats.t.ppf(alpha/2, df)\n",
    "\n",
    "print(critical_value_t)"
   ]
  }
 ],
 "metadata": {
  "kernelspec": {
   "display_name": "Python 3",
   "language": "python",
   "name": "python3"
  },
  "language_info": {
   "codemirror_mode": {
    "name": "ipython",
    "version": 3
   },
   "file_extension": ".py",
   "mimetype": "text/x-python",
   "name": "python",
   "nbconvert_exporter": "python",
   "pygments_lexer": "ipython3",
   "version": "3.13.2"
  }
 },
 "nbformat": 4,
 "nbformat_minor": 5
}
