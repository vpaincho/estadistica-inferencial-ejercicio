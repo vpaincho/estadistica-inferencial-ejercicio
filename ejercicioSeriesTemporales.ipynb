{
 "cells": [
  {
   "cell_type": "code",
   "execution_count": 15,
   "id": "baf20a21",
   "metadata": {},
   "outputs": [],
   "source": [
    "import pandas as pd\n"
   ]
  },
  {
   "cell_type": "code",
   "execution_count": 16,
   "id": "bc743f97",
   "metadata": {},
   "outputs": [],
   "source": [
    "import numpy as np\n",
    "import seaborn as sns \n",
    "import statsmodels.api as sm\n",
    "import statsmodels.formula.api as smf\n",
    "import statsmodels.tsa.api as smt"
   ]
  },
  {
   "cell_type": "code",
   "execution_count": 17,
   "id": "00b70f4e",
   "metadata": {},
   "outputs": [],
   "source": [
    "from scipy import stats\n",
    "from statistics import mode\n",
    "\n",
    "import warnings\n",
    "warnings.filterwarnings('ignore')"
   ]
  },
  {
   "cell_type": "code",
   "execution_count": 18,
   "id": "28abfc80",
   "metadata": {},
   "outputs": [],
   "source": [
    "df = pd.read_excel('Supertienda.xls')\n"
   ]
  },
  {
   "cell_type": "code",
   "execution_count": 19,
   "id": "b99913d8",
   "metadata": {},
   "outputs": [],
   "source": [
    "mobiliario = df.loc[df['Categoria'] == 'Mobiliario']\n"
   ]
  },
  {
   "cell_type": "code",
   "execution_count": 20,
   "id": "42a5eab4",
   "metadata": {},
   "outputs": [],
   "source": [
    "mobiliariogb = mobiliario.groupby('Fecha_pedido')['Ventas'].sum().reset_index()\n",
    "mobiliariogb = mobiliariogb.set_index('Fecha_pedido')\n",
    "y = mobiliariogb['Ventas'].resample('MS').mean()\n"
   ]
  },
  {
   "cell_type": "code",
   "execution_count": null,
   "id": "a0265e9c",
   "metadata": {},
   "outputs": [],
   "source": [
    "import matplotlib.pyplot as plt\n",
    "\n",
    "plt.figure(figsize = (16, 10))\n",
    "decomposition = sm.tsa.seasonal_decompose(y, model = 'additive')\n",
    "decomposition.plot()"
   ]
  }
 ],
 "metadata": {
  "kernelspec": {
   "display_name": "Python 3",
   "language": "python",
   "name": "python3"
  },
  "language_info": {
   "codemirror_mode": {
    "name": "ipython",
    "version": 3
   },
   "file_extension": ".py",
   "mimetype": "text/x-python",
   "name": "python",
   "nbconvert_exporter": "python",
   "pygments_lexer": "ipython3",
   "version": "3.13.2"
  }
 },
 "nbformat": 4,
 "nbformat_minor": 5
}
